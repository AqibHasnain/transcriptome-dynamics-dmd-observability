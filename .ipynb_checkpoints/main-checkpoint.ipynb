{
 "cells": [
  {
   "cell_type": "code",
   "execution_count": 46,
   "metadata": {},
   "outputs": [],
   "source": [
    "import numpy as np\n",
    "import pandas as pd\n",
    "import pickle\n",
    "import seaborn as sns\n",
    "import scipy as sp\n",
    "import matplotlib.pyplot as plt\n",
    "import matplotlib.gridspec as gridspec\n",
    "from matplotlib import colors as mcolors\n",
    "from matplotlib import cm\n",
    "from mpl_toolkits.axes_grid1.inset_locator import zoomed_inset_axes, mark_inset\n",
    "from mpl_toolkits.axes_grid1.anchored_artists import AnchoredSizeBar\n",
    "import matplotlib\n",
    "npg_colors = ['#00A087FF','#E64B35FF','#3C5488FF','#4DBBD5FF','#F39B7FFF','#8491B4FF','#91D1C2FF','#DC0000FF','#7E6148FF','#B09C85FF']\n",
    "npg_color_list = []\n",
    "for this_color in npg_colors: \n",
    "    npg_color_list.append(list(int(this_color[1:][i:i+2], 16)/255 for i in (0, 2, 4)))\n",
    "# plt.style.use('dark_background')\n",
    "# dark_colors = plt.rcParams['axes.prop_cycle'].by_key()['color']  \n",
    "plt.rcParams.update({'font.size':18});\n",
    "plt.rc('lines',linewidth=3);\n",
    "plt.rcParams['axes.spines.right'] = False\n",
    "plt.rcParams['axes.spines.top'] = False \n",
    "ncolors = 10\n",
    "plt.rc('axes', axisbelow=True)\n",
    "\n",
    "from preprocess import *\n",
    "from dmd import *\n",
    "from sensor_placement import *\n",
    "from query_uniprot import *\n",
    "from regions import *"
   ]
  },
  {
   "cell_type": "markdown",
   "metadata": {},
   "source": [
    "#### Import data and metadata"
   ]
  },
  {
   "cell_type": "code",
   "execution_count": 2,
   "metadata": {},
   "outputs": [],
   "source": [
    "# normalized gene expression in TPM generated with Kallisto\n",
    "datadir = 'data/tpm_removed_low_count_genes.csv' \n",
    "df = pd.read_csv(datadir)\n",
    "\n",
    "ntimepts = 12 # total number of timepoints in df\n",
    "reps = [0,2] # downselect to the replicates used in our work (2nd replicate not used due to experimental issue)\n",
    "nreps = 3 # total number of replicates in df\n",
    "tp_list = list(range(2,ntimepts-1)) # the timepoints to be considered for modeling \n",
    "# malathion was introduced before after the 2nd timepoint not using the last timepoint due to experimental issue\n",
    "\n",
    "# getting sample labels and transcript IDs from the df\n",
    "sampleLabels = list(df.columns[1:])\n",
    "txIDs = list(df.iloc[:,0])\n",
    "# getting transcriptome dynamics\n",
    "df = df.iloc[:,1:] "
   ]
  },
  {
   "cell_type": "markdown",
   "metadata": {},
   "source": [
    "#### Preprocess to get several different subsets of the data, metadata (gene names, reps, etc.)"
   ]
  },
  {
   "cell_type": "code",
   "execution_count": 3,
   "metadata": {},
   "outputs": [
    {
     "name": "stdout",
     "output_type": "stream",
     "text": [
      "num genes x num timepoints x num replicates\n",
      "(623, 9, 2)\n"
     ]
    }
   ],
   "source": [
    "data_c_orig, data_t_orig, data_c, data_t, keepers, data_c_keep, data_t_keep, \\\n",
    "                                txIDs_keep, data_fc, data_fc_norm = \\\n",
    "                                process_df(df,sampleLabels,nreps,reps,ntimepts,txIDs)\n",
    "print('num genes x num timepoints x num replicates')\n",
    "print(data_fc_norm.shape) # genes x timepoints x replicates\n",
    "\n",
    "genbank_path = 'data/GCA_000009225.1_ASM922v1_genomic.gbff'\n",
    "cdsFasta_path = 'data/GCA_000009225.1_ASM922v1_cds_from_genomic.fa'\n",
    "genes_keep, locus_tags_keep, locations = getRecords(cdsFasta_path,genbank_path,txIDs_keep)\n"
   ]
  },
  {
   "cell_type": "markdown",
   "metadata": {},
   "source": [
    "#### Perform dynamic mode decomposition on transcriptome dynamics"
   ]
  },
  {
   "cell_type": "code",
   "execution_count": 4,
   "metadata": {},
   "outputs": [
    {
     "name": "stdout",
     "output_type": "stream",
     "text": [
      "Coefficient of determination for n-step prediction is 9.389e-01\n"
     ]
    }
   ],
   "source": [
    "r = 10 # number of dynamic modes\n",
    "A,Atilde,data_fc_norm_red,U_r,cd,eVals_r,eVecs_r,Phi,b_r0,b_r1 = \\\n",
    "        dmd(data_fc_norm,rank_reduce=True,r=r,trim=True,trimThresh=2.5e-3) #trimThesh=2.5e-3"
   ]
  },
  {
   "cell_type": "markdown",
   "metadata": {},
   "source": [
    "#### Observability maximization with closed form solution"
   ]
  },
  {
   "cell_type": "markdown",
   "metadata": {},
   "source": [
    "Some unanswered questions:\n",
    "- Which genes would be the ones that best reconstruct x0, in each condition separately? \n",
    "- Maybe we can have a plot of both of those genes as a new Fig. 3 and have Fig. 4 be the one with the fold-change\n"
   ]
  },
  {
   "cell_type": "code",
   "execution_count": 209,
   "metadata": {},
   "outputs": [],
   "source": [
    "# First, we will compute the Gram matrix which encodes all known information \n",
    "\n",
    "# this G is computed using non-projected data (can be slow for high-dimensional data)\n",
    "G = gram_matrix(A,data_fc_norm[:,0,:],nT=8,reduced=False)\n",
    "# Gt is computed using projected data and KO and Gt_recon is simply projected back up to original dimension\n",
    "Gt, Gt_recon = gram_matrix(Atilde,data_fc_norm_red[:,0,:],nT=50,reduced=True,projection_matrix=U_r)\n"
   ]
  },
  {
   "cell_type": "code",
   "execution_count": 210,
   "metadata": {},
   "outputs": [],
   "source": [
    "# compute eigendecomposition of the Gram matrices\n",
    "# right eigenvectors of G (columns of V) are rows of the gene sampling matrix (or vector if p=1)\n",
    "D, V = sp.linalg.eig(G,left=False,right=True)\n",
    "Dt,Vt = sp.linalg.eig(Gt,left=False,right=True)\n",
    "Dt_recon, Vt_recon = sp.linalg.eig(Gt_recon,left=False,right=True)"
   ]
  },
  {
   "cell_type": "code",
   "execution_count": null,
   "metadata": {},
   "outputs": [],
   "source": []
  },
  {
   "cell_type": "code",
   "execution_count": null,
   "metadata": {},
   "outputs": [],
   "source": [
    "plt.figure()\n",
    "# plt.plot(Vr[:,0])\n",
    "plt.ylabel(r'Eigenvectors of $G$')\n",
    "plt.xlabel('gene index')\n",
    "# plt.plot(np.sort((Vr[:,3])),label=r'$v_4$')\n",
    "# plt.plot(np.sort((Vr[:,2])),label=r'$v_3$')\n",
    "# plt.plot(np.sort((Vr[:,1])),label=r'$v_2$')\n",
    "plt.plot(np.sort((Vr[:,0])),label=r'$v_1$')\n",
    "# plt.plot(np.sort((Vr[:,4])))\n",
    "# plt.plot(np.sort((Vr[:,-1])))\n",
    "plt.hlines(0.05,0,623,linestyle='-.',lw=1.5)\n",
    "plt.hlines(-0.05,0,623,linestyle='-.',lw=1.5)\n",
    "plt.legend(frameon=False,loc='lower right')\n",
    "# plt.savefig('/Users/aqib/desktop/Gram_eigevec_max.pdf',bbox_inches='tight',transparent=True,dpi=300)\n",
    "plt.show()\n"
   ]
  },
  {
   "cell_type": "code",
   "execution_count": null,
   "metadata": {
    "scrolled": true
   },
   "outputs": [],
   "source": [
    "sorted_inds = list(np.argsort(np.abs(Vr[:,0])))\n",
    "sorted_tags = [locus_tags_keep[x] for x in sorted_inds]\n",
    "# sorted_tags.index('PFLU_6124')\n",
    "for ii in range(len(data_fc_norm)-1,len(data_fc_norm)-21,-1):\n",
    "#     this_idx = -9 # sorted_tags.index('PFLU_6124')\n",
    "    plt.figure()\n",
    "    plt.title(sorted_tags[ii]+ ', Rank: ' + str(len(data_fc_norm) - ii))\n",
    "    plt.plot(data_fc[sorted_inds[ii]])\n",
    "    plt.hlines(1.0,0,8,color='red',linestyle='-.',lw=1.5)\n",
    "    plt.show()"
   ]
  },
  {
   "cell_type": "code",
   "execution_count": null,
   "metadata": {},
   "outputs": [],
   "source": [
    "# need to fix this visualization (the genes being plotted aren't matched to the tags)\n",
    "these_tags = ['6124','0841','4736','1823','3761','5502','1836','0376','1815','0953','1380','4612','4150','1358','1302A']\n",
    "these_tags = ['PFLU_' + x for x in these_tags]\n",
    "for tag in these_tags: \n",
    "    plt.figure()\n",
    "    plt.title(tag + ', Rank: ' + str(len(data_fc_norm) - sorted_tags.index(tag)))\n",
    "    plt.plot(data_fc[locus_tags_keep.index(tag)])\n",
    "    plt.hlines(1.0,0,8,color='red',linestyle='-.',lw=1.5)\n",
    "    plt.show()"
   ]
  },
  {
   "cell_type": "code",
   "execution_count": null,
   "metadata": {},
   "outputs": [],
   "source": [
    "# Get columns of Vr[:,0:p].T with maximum norm\n",
    "p = 20\n",
    "W = deepcopy(Vr[:,0:p].T)\n",
    "maxnorminds = list(np.linalg.norm(W,axis=0).argsort()[-5:][::-1])\n",
    "# W[np.abs(W)<0.1] = 0"
   ]
  },
  {
   "cell_type": "code",
   "execution_count": null,
   "metadata": {},
   "outputs": [],
   "source": [
    "# Plot the gene sampling weight matrix when p > 1\n",
    "\n",
    "fig,ax = plt.subplots(1,1,figsize=(20,5))\n",
    "sns.heatmap(W,cmap='viridis',ax=ax,linewidths=0)\n",
    "ax.set_xticks(np.arange(35,620,50))\n",
    "ax.set_xticklabels([genes_keep[x] if genes_keep[x] != 'N/A' else locus_tags_keep[x] for x in np.arange(35,620,50)],rotation=75)\n",
    "ax.set_yticks([])\n",
    "ax.set_ylabel(str(p)+' output channels')\n",
    "# plt.savefig('/Users/aqib/desktop/eigvecs_from_Gram.pdf',bbox_inches='tight',transparent=True,dpi=1000)\n",
    "plt.show()"
   ]
  },
  {
   "cell_type": "markdown",
   "metadata": {},
   "source": [
    "#### Maximize observability for sensor placement\n",
    "- Takes between 1 and 10 minutes per run for $O(10^3)$ genes (depends on initialization)"
   ]
  },
  {
   "cell_type": "code",
   "execution_count": null,
   "metadata": {
    "scrolled": true
   },
   "outputs": [],
   "source": [
    "doRun = False\n",
    "doSave = False\n",
    "if doRun: \n",
    "    Clist = []\n",
    "    for ii in range(10): # run the observability analysis 10 times\n",
    "        C,seed = energy_maximization_with_uni_dist(data_fc_norm,A,data_fc_norm.shape[1],data_fc_norm.shape[1]-1,IC=0) \n",
    "        C = (C/C.max()).T # normalizing C to be b/w 0 and 1\n",
    "        C = list(np.squeeze(C))\n",
    "        Clist.append(C)\n",
    "\n",
    "if doSave: \n",
    "# dump observability result \n",
    "    pickle.dump(Clist,open('data/Clist.pkl','wb'))\n",
    "        \n",
    "        \n",
    "if not doRun: # grab from previously saved pickle \n",
    "    # retrieve Clist from pickle file\n",
    "    Clist = pickle.load(open('data/Clist.pkl','rb'))\n",
    "    \n",
    "# sort from lowest to highest sampling weight and get mean/std over the runs\n",
    "C = list(np.mean(Clist,axis=0))\n",
    "Csorted = np.sort(C)\n",
    "CsortedInds = list(np.argsort(C)) # from lowest to highest rank\n",
    "\n",
    "# to get the error across runs, need each list in Clist to be sorted as in CsortedInds\n",
    "Ctmp = []\n",
    "for ii in range(len(Clist)):\n",
    "    Ctmp.append(list(np.array(Clist[ii])[CsortedInds]))\n",
    "    \n",
    "Csorted_err = np.std(np.array(Ctmp),axis=0)"
   ]
  },
  {
   "cell_type": "markdown",
   "metadata": {},
   "source": [
    "Measure reconstruction accuracy for varying timepoints and number of genes selected"
   ]
  },
  {
   "cell_type": "code",
   "execution_count": null,
   "metadata": {},
   "outputs": [],
   "source": [
    "# takes several minutes to run\n",
    "\n",
    "samplingFreq = 5 \n",
    "\n",
    "doRun = False\n",
    "if doRun:\n",
    "    rho_T10 = reconstruct_x0(data_fc_norm,10,A,C,CsortedInds,samplingFreq=samplingFreq,order='top') # second argument is number of timepoints\n",
    "#     rho_T9 = reconstruct_x0(data_fc_norm,9,A,C,CsortedInds,samplingFreq=samplingFreq,order='top')\n",
    "#     rho_T8 = reconstruct_x0(data_fc_norm,8,A,C,CsortedInds,samplingFreq=samplingFreq,order='top')\n",
    "#     rho_T7 = reconstruct_x0(data_fc_norm,7,A,C,CsortedInds,samplingFreq=samplingFreq,order='top')\n",
    "#     rho_T6 = reconstruct_x0(data_fc_norm,6,A,C,CsortedInds,samplingFreq=samplingFreq,order='top')\n",
    "#     rho_T5 = reconstruct_x0(data_fc_norm,5,A,C,CsortedInds,samplingFreq=samplingFreq,order='top')\n",
    "#     rho_T4 = reconstruct_x0(data_fc_norm,4,A,C,CsortedInds,samplingFreq=samplingFreq,order='top')\n",
    "#     rho_T3 = reconstruct_x0(data_fc_norm,3,A,C,CsortedInds,samplingFreq=samplingFreq,order='top')\n",
    "#     rho_T2 = reconstruct_x0(data_fc_norm,2,A,C,CsortedInds,samplingFreq=samplingFreq,order='top')\n",
    "#     rho_T1 = reconstruct_x0(data_fc_norm,1,A,C,CsortedInds,samplingFreq=samplingFreq,order='top')\n",
    "\n",
    "doRunRand = False\n",
    "if doRunRand: \n",
    "    rho_T10_rand = reconstruct_x0(data_fc_norm,10,A,C,CsortedInds,samplingFreq=samplingFreq,order='random')\n",
    "#     rho_T9_rand = reconstruct_x0(data_fc_norm,9,A,C,CsortedInds,samplingFreq=samplingFreq,order='random')\n",
    "#     rho_T8_rand = reconstruct_x0(data_fc_norm,8,A,C,CsortedInds,samplingFreq=samplingFreq,order='random')\n",
    "#     rho_T7_rand = reconstruct_x0(data_fc_norm,7,A,C,CsortedInds,samplingFreq=samplingFreq,order='random')\n",
    "#     rho_T6_rand = reconstruct_x0(data_fc_norm,6,A,C,CsortedInds,samplingFreq=samplingFreq,order='random')\n",
    "#     rho_T5_rand = reconstruct_x0(data_fc_norm,5,A,C,CsortedInds,samplingFreq=samplingFreq,order='random')\n",
    "#     rho_T4_rand = reconstruct_x0(data_fc_norm,4,A,C,CsortedInds,samplingFreq=samplingFreq,order='random')\n",
    "#     rho_T3_rand = reconstruct_x0(data_fc_norm,3,A,C,CsortedInds,samplingFreq=samplingFreq,order='random')\n",
    "#     rho_T2_rand = reconstruct_x0(data_fc_norm,2,A,C,CsortedInds,samplingFreq=samplingFreq,order='random')\n",
    "#     rho_T1_rand = reconstruct_x0(data_fc_norm,1,A,C,CsortedInds,samplingFreq=samplingFreq,order='random')\n",
    "\n",
    "doSave = False\n",
    "if doSave: \n",
    "    -1\n",
    "#     pickle.dump([rho_T10,rho_T9,rho_T8,rho_T7,rho_T6,rho_T5,rho_T4,rho_T3,rho_T2,rho_T1],open('data/reconstructions.pkl','wb'))\n",
    "#     pickle.dump([rho_T10_rand,rho_T9_rand,rho_T8_rand,rho_T7_rand,rho_T6_rand,rho_T5_rand,rho_T4_rand,rho_T3_rand,rho_T2_rand,rho_T1_rand],open('data/reconstructions_random.pkl','wb'))\n",
    "\n",
    "if not doRun:\n",
    "    rho_list = pickle.load(open('data/reconstructions.pkl','rb'))\n",
    "if not doRunRand:\n",
    "    rho_rand_list = pickle.load(open('data/reconstructions_random.pkl','rb'))"
   ]
  },
  {
   "cell_type": "markdown",
   "metadata": {},
   "source": [
    "#### Results dataframe with selected encoder genes and metadata"
   ]
  },
  {
   "cell_type": "code",
   "execution_count": null,
   "metadata": {
    "scrolled": true
   },
   "outputs": [],
   "source": [
    "# their locus_tags\n",
    "tags = ['6124','0841','4736','1823','3761','5502','1836','0376','1815','0953','1380','4612','4150','1358','1302A']\n",
    "tags = ['PFLU_'+tag for tag in tags]\n",
    "search_names = 'genes,protein names,comment(FUNCTION),go,go(biological process),go(molecular function)'\n",
    "\n",
    "df_up_new = process_query(tags,search_names,locus_tags_keep,C,Csorted)\n",
    "# adjust long gene names for manuscript\n",
    "df_up_new.gene[list(df_up_new.locus_tag).index('PFLU_3761')] = 'Uncharacterized \\n protein I'\n",
    "df_up_new.gene[list(df_up_new.locus_tag).index('PFLU_1358')] = 'Uncharacterized \\n protein II'\n",
    "df_up_new.gene[list(df_up_new.locus_tag).index('PFLU_4612')] = 'Putative outer membrane porin \\n A protein'\n",
    "df_up_new.gene[list(df_up_new.locus_tag).index('PFLU_0376')] = 'Putative ABC transport \\n system'\n",
    "df_up_new.gene[list(df_up_new.locus_tag).index('PFLU_4736')] = 'anti-sigma \\n 28 factor'\n",
    "\n",
    "doSave = False\n",
    "if doSave: \n",
    "    df_up_new.to_csv('data/sensor_genes_uniprot.csv',sep=',')\n",
    "df_up_new"
   ]
  },
  {
   "cell_type": "markdown",
   "metadata": {},
   "source": [
    "#### Get promoter sequences corresponding to selected encoder genes"
   ]
  },
  {
   "cell_type": "code",
   "execution_count": null,
   "metadata": {},
   "outputs": [],
   "source": [
    "intergenic_records = get_interregions(genbank_path,intergene_length=100)\n",
    "# get promoter sequences (intergenic regions) for all the genes modeled\n",
    "promoter_records = get_promoterregions_v2(locations,locus_tags_keep,intergenic_records,genbank_path,rel_dist_thresh=5000)"
   ]
  },
  {
   "cell_type": "markdown",
   "metadata": {},
   "source": [
    "### Figures\n",
    "- Figure 2 and 3 are generated here, for Figures 4 and 5 see reporters.ipynb and virtual_sensors.ipynb, respectively"
   ]
  },
  {
   "cell_type": "code",
   "execution_count": null,
   "metadata": {},
   "outputs": [],
   "source": [
    "figDir = '/Users/aqib/Desktop/BCCL/koopman-sensor-placement/NC_submission/figures/'\n",
    "corr_tspan = list(range(10,100,10)) # for xaxis in many figures"
   ]
  },
  {
   "cell_type": "markdown",
   "metadata": {},
   "source": [
    "#### Subfigures for FIgure 2 in manuscript"
   ]
  },
  {
   "cell_type": "code",
   "execution_count": null,
   "metadata": {
    "scrolled": true
   },
   "outputs": [],
   "source": [
    "# plot eigenvalues and corresponding dynamic mode amplitudes\n",
    "savefig = False\n",
    "\n",
    "# automate mode pairing (data is real-valued, complex eigs comes with a conjugate pair -- no need to plot both)\n",
    "mode_pairs = []\n",
    "mode_labels = []\n",
    "cnt = 0\n",
    "while cnt in range(len(eVals_r)): \n",
    "    if cnt+1 != len(eVals_r):\n",
    "        if np.abs(eVals_r[cnt]) == np.abs(eVals_r[cnt+1]):\n",
    "            mode_pairs.append([cnt,cnt+1])\n",
    "            mode_labels.append('modes '+str(cnt+1)+'+'+str(cnt+2))\n",
    "            cnt += 2\n",
    "        else: \n",
    "            mode_pairs.append([cnt])\n",
    "            mode_labels.append('mode '+str(cnt+1))\n",
    "            cnt += 1\n",
    "    else: \n",
    "        mode_pairs.append([cnt])\n",
    "        cnt += 1\n",
    "print(mode_pairs, mode_labels)\n",
    "\n",
    "# size the eigenvalue marker by corresponding mode power ||Phi_i||\n",
    "mode_powers = np.linalg.norm(Phi,axis=0)\n",
    "my_ms = [9*2**n for n in mode_powers]\n",
    "\n",
    "fig1,ax1 = plt.subplots(1,1,figsize=(7,7))\n",
    "fig2,ax2 = plt.subplots(1,1,figsize=(7,7))\n",
    "theta = np.linspace(0,2*np.pi,200)\n",
    "ax1.plot(np.cos(theta),np.sin(theta),c='black',lw=1.5)\n",
    "\n",
    "markers = ['o','s','d','^','v','>']\n",
    "for ii in range(len(mode_pairs)):\n",
    "    scaled_mode = np.real(eVals_r[ii]*b_r1[mode_pairs[ii][0]])\n",
    "#     scaled_mode = np.real(b_r1[mode_pairs[ii][0]])\n",
    "    ax2.plot(corr_tspan,savgol(scaled_mode,3,1),'-',c=npg_colors[ii],lw=4,label=mode_labels[ii])\n",
    "    ax1.plot(np.real(eVals_r[mode_pairs[ii][0]]),np.imag(eVals_r[mode_pairs[ii][0]]),\n",
    "                marker=markers[ii],mfc=npg_color_list[ii]+[0.8],ms=my_ms[mode_pairs[ii][0]],mec='k',mew=2)\n",
    "    if len(mode_pairs[ii]) == 2: \n",
    "        ax1.plot(np.real(eVals_r[mode_pairs[ii][1]]),np.imag(eVals_r[mode_pairs[ii][1]]),\n",
    "                    marker=markers[ii],mfc=npg_colors[ii],ms=my_ms[mode_pairs[ii][0]],mec='k',mew=2)\n",
    "\n",
    "ax1.axis('equal')\n",
    "ax1.set_xlabel(r'$\\mathregular{Re(\\lambda)}$',fontsize=22)\n",
    "ax1.set_ylabel(r'$\\mathregular{Im(\\lambda)}$',fontsize=22)\n",
    "ax1.set_ylim(-1,1)\n",
    "ax1.set_yticks(np.arange(-1,1.5,0.5))\n",
    "ax1.xaxis.set_tick_params(which='both', size=5, width=2, direction='in')\n",
    "ax1.yaxis.set_tick_params(which='both', size=5, width=2, direction='in')\n",
    "\n",
    "ax2.set_xlabel('Time (minutes)',fontsize=22)\n",
    "ax2.set_ylabel('Dynamic mode amplitude',fontsize=22)\n",
    "ax2.legend(frameon=False,ncol=1)\n",
    "ax2.xaxis.set_tick_params(which='both', size=5, width=2, direction='in')\n",
    "ax2.yaxis.set_tick_params(which='both', size=5, width=2, direction='in')\n",
    "\n",
    "for side in ax1.spines.keys():\n",
    "    ax1.spines[side].set_linewidth(2)\n",
    "    ax2.spines[side].set_linewidth(2)\n",
    "\n",
    "ax1.grid(linestyle=':',linewidth=1.75,dashes=(2,4))\n",
    "ax2.grid(linestyle=':',linewidth=1.75,dashes=(2,4))\n",
    "    \n",
    "if savefig: \n",
    "    fig1.savefig(figDir + 'fig2/eigvals.pdf',bbox_inches='tight',transparent=True,dpi=300)\n",
    "    fig2.savefig(figDir + 'fig2/amplitudes.pdf',bbox_inches='tight',transparent=True,dpi=300)\n",
    "plt.show()"
   ]
  },
  {
   "cell_type": "code",
   "execution_count": null,
   "metadata": {
    "scrolled": true
   },
   "outputs": [],
   "source": [
    "# make a plot that shows magnitude of eigvals for varying r\n",
    "# didn't make it into manuscript\n",
    "\n",
    "savefig = False\n",
    "\n",
    "plt.rcParams['axes.spines.top'] = False\n",
    "plt.rcParams['axes.spines.right'] = False\n",
    "\n",
    "r_list = [8,10,12,14,16]\n",
    "evals_list = []\n",
    "for rr in r_list: \n",
    "    _,_,_,evals,_,_,_,_ = \\\n",
    "                            dmd(data_fc_norm,rank_reduce=True,r=rr,trim=True,trimThresh=2e-3)\n",
    "    evals_list.append(evals)\n",
    "\n",
    "fig,ax = plt.subplots(1,1,figsize=(7,7))\n",
    "my_ms = ['>','o','<','v','^']\n",
    "for ii,evals in enumerate(evals_list):\n",
    "    ax.plot(np.sort(np.abs(evals))[::-1],my_ms[ii],mec='k',c=npg_colors[ii],mew=1,ms=12\n",
    "            ,label='r = '+str(r_list[ii]))\n",
    "for side in ax.spines.keys():\n",
    "    ax.spines[side].set_linewidth(2.5)\n",
    "ax.set_ylabel(r'$|\\mathregular{\\lambda}|$',fontsize=26)\n",
    "ax.set_xticks(range(0,20,5))\n",
    "ax.xaxis.set_tick_params(which='both', size=5, width=2, direction='in')\n",
    "ax.yaxis.set_tick_params(which='both', size=5, width=2, direction='in')\n",
    "ax.grid(linestyle=':',linewidth=1.75,dashes=(2,4))\n",
    "fig.legend(frameon=False,bbox_to_anchor=(1,0.9))\n",
    "if savefig: \n",
    "    plt.savefig(figDir + 'fig2/magEvals_vary_numModes.pdf',bbox_inches='tight',transparent=True,dpi=300)\n",
    "plt.show()"
   ]
  },
  {
   "cell_type": "code",
   "execution_count": null,
   "metadata": {
    "scrolled": true
   },
   "outputs": [],
   "source": [
    "# cluster genes by modes by looking at elements in columns of the Koopman modes\n",
    "# only plot representative modes and their corresponding \"loaded\" genes\n",
    "\n",
    "savefig = False\n",
    "\n",
    "modes = [0,1,3]\n",
    "heights = [0.85,1.5]\n",
    "my_figsize = (5.5,7)\n",
    "\n",
    "Phi_mag = np.abs(Phi)\n",
    "\n",
    "kmax = 20\n",
    "kmax_inds = []\n",
    "for ii in range(Phi_mag.shape[1]):\n",
    "    kmax_inds.append(Phi_mag[:,ii].argsort()[-kmax:])\n",
    "\n",
    "cnt1,cnt2,cnt3,cnt4 = 0,0,3,3\n",
    "\n",
    "fig1,axs1 = plt.subplots(2,1,figsize=my_figsize,gridspec_kw={'height_ratios':heights},sharey='row',sharex=True)\n",
    "mode = modes[0]\n",
    "scaled_mode = np.real(eVals_r[mode]*b_r1[mode_pairs[mode][0]])\n",
    "axs1[0].plot(corr_tspan,savgol(scaled_mode,3,1),'o-',ms=10.5,mec='k',mew=2,c='k',mfc=npg_color_list[0]+[0.7],\n",
    "        lw=1.5,label=mode_labels[cnt1])\n",
    "for ii in range(10,kmax): # only plot the top 10 \n",
    "    axs1[1].plot(corr_tspan,savgol(data_fc[kmax_inds[mode][ii],:,1],7,3),'o-',c='k',mfc=npg_color_list[0]+[0.7],\n",
    "           ms=10.5,mec='k',mew=2,lw=1.5)\n",
    "for jj,ax in enumerate(axs1.reshape(-1)):\n",
    "    for side in ax.spines.keys():\n",
    "        ax.spines[side].set_linewidth(2.5)\n",
    "    ax.xaxis.set_tick_params(which='both', size=5, width=2, direction='in')\n",
    "    ax.yaxis.set_tick_params(which='both', size=5, width=2, direction='in')\n",
    "    ax.grid(linestyle=':',linewidth=1.75,dashes=(2,4))   \n",
    "axs1[0].set_ylabel('Mode 1 \\n amplitudes',fontsize=18) \n",
    "axs1[1].set_ylabel('Fold change of \\n first mode genes',fontsize=18) \n",
    "plt.tight_layout()\n",
    "\n",
    "fig2,axs2 = plt.subplots(2,1,figsize=my_figsize,gridspec_kw={'height_ratios':heights},sharey='row',sharex=True)\n",
    "mode = modes[1]\n",
    "scaled_mode = np.real(eVals_r[mode]*b_r1[mode_pairs[mode][0]])\n",
    "axs2[0].plot(corr_tspan,savgol(scaled_mode,3,1),'s-',ms=9.5,mec='k',mew=2,c='k',mfc=npg_color_list[1]+[0.8],\n",
    "        lw=1.5,label=mode_labels[cnt1])\n",
    "for ii in range(10,kmax): # only plot the top 10 \n",
    "    axs2[1].plot(corr_tspan,savgol(data_fc[kmax_inds[mode][ii],:,1],7,3),'s-',c='k',mfc=npg_color_list[1]+[0.8],\n",
    "           ms=9.5,mec='k',mew=2,lw=1.5)\n",
    "for jj,ax in enumerate(axs2.reshape(-1)):\n",
    "    for side in ax.spines.keys():\n",
    "        ax.spines[side].set_linewidth(2.5)\n",
    "    ax.xaxis.set_tick_params(which='both', size=5, width=2, direction='in')\n",
    "    ax.yaxis.set_tick_params(which='both', size=5, width=2, direction='in')\n",
    "    ax.grid(linestyle=':',linewidth=1.75,dashes=(2,4))   \n",
    "axs2[0].set_ylabel('Mode 2 \\n amplitudes',fontsize=18) \n",
    "axs2[1].set_ylabel('Fold change of \\n second mode genes',fontsize=18) \n",
    "plt.tight_layout()\n",
    "\n",
    "fig3,axs3 = plt.subplots(2,1,figsize=my_figsize,gridspec_kw={'height_ratios':heights},sharey='row',sharex=True)\n",
    "mode = modes[2]\n",
    "scaled_mode = np.real(eVals_r[mode]*b_r1[mode_pairs[mode][0]])\n",
    "axs3[0].plot(corr_tspan,savgol(scaled_mode,3,1),'^-',ms=12.25,mec='k',mew=2,c='k',mfc=npg_color_list[3]+[0.8],\n",
    "        lw=1.5,label=mode_labels[cnt1])\n",
    "for ii in range(10,kmax): # only plot the top 10 \n",
    "    axs3[1].plot(corr_tspan,savgol(data_fc[kmax_inds[mode][ii],:,1],7,3),'^-',c='k',mfc=npg_color_list[3]+[0.8],\n",
    "           ms=12.25,mec='k',mew=2,lw=1.5)\n",
    "for jj,ax in enumerate(axs3.reshape(-1)):\n",
    "    for side in ax.spines.keys():\n",
    "        ax.spines[side].set_linewidth(2.5)\n",
    "    ax.xaxis.set_tick_params(which='both', size=5, width=2, direction='in')\n",
    "    ax.yaxis.set_tick_params(which='both', size=5, width=2, direction='in')\n",
    "    ax.grid(linestyle=':',linewidth=1.75,dashes=(2,4))   \n",
    "axs3[0].set_ylabel('Mode 6 \\n amplitudes',fontsize=18) \n",
    "axs3[1].set_ylabel('Fold change of \\n sixth mode genes',fontsize=18) \n",
    "# axs3[1].set_xlabel('Time after malathion induction (minutes)',fontsize=22) \n",
    "\n",
    "axs1[0].set_ylim(-24,20)\n",
    "axs2[0].set_ylim(-24,20)\n",
    "axs3[0].set_ylim(-24,20)\n",
    "axs1[1].set_ylim(0.5,1.55)\n",
    "axs2[1].set_ylim(0.5,1.55)\n",
    "axs3[1].set_ylim(0.5,1.55)\n",
    "\n",
    "plt.tight_layout()\n",
    "\n",
    "\n",
    "# axs[3,1].set_xlabel('Time (minutes)',fontsize=22) \n",
    "\n",
    "if savefig: \n",
    "    fig1.savefig(figDir + 'fig2/mode1_genes.pdf',bbox_inches='tight',transparent=True,dpi=300)\n",
    "    fig2.savefig(figDir + 'fig2/mode2_genes.pdf',bbox_inches='tight',transparent=True,dpi=300)\n",
    "    fig3.savefig(figDir + 'fig2/mode6_genes.pdf',bbox_inches='tight',transparent=True,dpi=300)\n",
    "plt.show()"
   ]
  },
  {
   "cell_type": "code",
   "execution_count": null,
   "metadata": {},
   "outputs": [],
   "source": [
    "##### visualize the preditions for several randomly selected genes\n",
    "savefig = False\n",
    "\n",
    "plt.rcParams['axes.spines.right'] = False\n",
    "plt.rcParams['axes.spines.top'] = False \n",
    "\n",
    "X_pred, cd_ = n_step_prediction(A,data_fc_norm,data_fc_norm.shape[1],data_fc_norm.shape[2])\n",
    "Xpred = X_pred.reshape(len(A),data_fc_norm.shape[1],data_fc_norm.shape[2],order='F')\n",
    "\n",
    "fig,axs = plt.subplots(3,2,figsize=(7,7),sharex=True,sharey=True)\n",
    "fig.delaxes(axs[-1,-1])\n",
    "pinds = [3,99,582,163,308] # plot these genes (selected randomly)\n",
    "for ii,ax in enumerate(axs.reshape(-1)):\n",
    "    if ii < len(pinds):\n",
    "        pind = pinds[ii]\n",
    "        act_mean = np.mean(data_fc_norm[pind],axis=1)\n",
    "        pred_mean = np.mean(Xpred[pind],axis=1)\n",
    "        act_std = np.std(data_fc_norm[pind],axis=1)\n",
    "        pred_std = np.std(Xpred[pind],axis=1)\n",
    "        ax.plot(corr_tspan,act_mean,'o-',ms=8,lw=2,c='tab:blue')\n",
    "        ax.plot(corr_tspan,pred_mean,'--',lw=4,c='tab:orange')\n",
    "        ax.fill_between(corr_tspan,act_mean-act_std,act_mean+act_std,color='tab:blue',alpha=0.2)\n",
    "        ax.fill_between(corr_tspan,pred_mean-pred_std,pred_mean+pred_std,color='tab:orange',alpha=0.2)\n",
    "        # also plot a marker indicating that the IC is given as input to the model\n",
    "        ax.plot(10,act_mean[0],'s',ms=18,c='m',mfc='None',mew=2.5)\n",
    "        ax.set_xticks(range(20,100,20))\n",
    "        for side in ax.spines.keys(): \n",
    "            ax.spines[side].set_linewidth(2.5)   \n",
    "        ax.xaxis.set_tick_params(which='both', size=5, width=2, direction='in')\n",
    "        ax.yaxis.set_tick_params(which='both', size=5, width=2, direction='in')\n",
    "        ax.grid(linestyle=':',linewidth=1.75,dashes=(2,4))   \n",
    "        if genes_keep[pind] != 'N/A':\n",
    "            ax.set_title(genes_keep[pind],fontsize=18)\n",
    "        else: \n",
    "            ax.set_title(locus_tags_keep[pind],fontsize=18)\n",
    "\n",
    "fig.legend(['truth','8-step DMD \\n prediction'],frameon=False,loc=(0.61,0.1),fontsize=20);\n",
    "fig.text(0.5, -0.02, 'Time after malathion induction (minutes)', ha='center',fontsize=22);\n",
    "fig.text(-0.01, 0.5, 'Standardized Fold Change', va='center', rotation='vertical',fontsize=22);\n",
    "fig.text(0.72,0.256,r'$R^2=0.93$' '\\n (all genes)',ha='center',fontsize=20)\n",
    "plt.tight_layout()\n",
    "if savefig: \n",
    "    plt.savefig(figDir + 'fig2/error_timeseries.pdf',bbox_inches='tight',transparent=True,dpi=300)\n",
    "plt.show()"
   ]
  },
  {
   "cell_type": "code",
   "execution_count": null,
   "metadata": {
    "scrolled": true
   },
   "outputs": [],
   "source": [
    "# Visualize heatmaps for reconstructed data and DMD schematic\n",
    "# plot for spectral expansion visualization\n",
    "savefig = False\n",
    "\n",
    "my_cmap = cmap = 'viridis' #sns.diverging_palette(230, 20, as_cmap=True) # 'YlGnBu'\n",
    "phase_cmap = 'twilight'\n",
    "\n",
    "eVals_r_phase = 2*np.abs(np.arctan(np.imag(eVals_r)/np.real(eVals_r)))\n",
    "Phi_phase = 2*np.abs(np.arctan(np.imag(Phi)/np.real(Phi)))\n",
    "b_phase = 2*np.abs(np.arctan(np.imag(b_r1[:,0:1])/np.real(b_r1[:,0:1])))\n",
    "\n",
    "eVals_r_mag = np.abs(eVals_r)\n",
    "Phi_mag = np.abs(Phi)\n",
    "b_mag = np.abs(b_r1[:,0:1])\n",
    "\n",
    "########## data ####################################################################\n",
    "plt.figure(figsize=(0.4,8))\n",
    "res = sns.heatmap(data_fc_norm[:,1:2,1],cmap=my_cmap,cbar=False)\n",
    "plt.xticks([])\n",
    "plt.yticks([])\n",
    "for _, spine in res.spines.items():\n",
    "    spine.set_visible(True)\n",
    "    spine.set_linewidth(2)\n",
    "if savefig: \n",
    "    plt.savefig(figDir + 'fig2/heatmap_xk.pdf',bbox_inches='tight',transparent=True,dpi=300)\n",
    "plt.show()\n",
    "\n",
    "########## eigenvalues ####################################################################\n",
    "plt.figure(figsize=(4,4))\n",
    "res = sns.heatmap(np.diag(eVals_r_mag),cmap=my_cmap,cbar=False)\n",
    "plt.axis('equal')\n",
    "plt.xticks([])\n",
    "plt.yticks([])\n",
    "for _, spine in res.spines.items():\n",
    "    spine.set_visible(True)\n",
    "    spine.set_linewidth(2)\n",
    "if savefig: \n",
    "    plt.savefig(figDir + 'fig2/heatmap_evals_mag.pdf',bbox_inches='tight',transparent=True,dpi=300)\n",
    "plt.show()\n",
    "\n",
    "plt.figure(figsize=(4,4))\n",
    "res = sns.heatmap(np.diag(eVals_r_phase),vmin=0,vmax=2*np.pi,cmap=phase_cmap,cbar=False)\n",
    "plt.axis('equal')\n",
    "plt.xticks([])\n",
    "plt.yticks([])\n",
    "for _, spine in res.spines.items():\n",
    "    spine.set_visible(True)\n",
    "    spine.set_linewidth(2)\n",
    "if savefig: \n",
    "    plt.savefig(figDir + 'fig2/heatmap_evals_phase.pdf',bbox_inches='tight',transparent=True,dpi=300)\n",
    "plt.show();\n",
    "\n",
    "########## modes ####################################################################\n",
    "plt.figure(figsize=(3,8))\n",
    "res = sns.heatmap(Phi_mag,cmap=my_cmap,cbar=False)\n",
    "plt.xticks([])\n",
    "plt.yticks([])\n",
    "for _, spine in res.spines.items():\n",
    "    spine.set_visible(True)\n",
    "    spine.set_linewidth(2)\n",
    "if savefig: \n",
    "    plt.savefig(figDir + 'fig2/heatmap_modes_mag.pdf',bbox_inches='tight',transparent=True,dpi=300)\n",
    "plt.show();\n",
    "\n",
    "plt.figure(figsize=(3,8))\n",
    "res = sns.heatmap(Phi_phase,vmin=0,vmax=2*np.pi,cmap=phase_cmap,cbar=False)\n",
    "plt.xticks([])\n",
    "plt.yticks([])\n",
    "for _, spine in res.spines.items():\n",
    "    spine.set_visible(True)\n",
    "    spine.set_linewidth(2)\n",
    "if savefig: \n",
    "    plt.savefig(figDir + 'fig2/heatmap_modes_phase.pdf',bbox_inches='tight',transparent=True,dpi=300)\n",
    "plt.show();\n",
    "\n",
    "\n",
    "########## amplitude ####################################################################\n",
    "plt.figure(figsize=(0.4,4))\n",
    "res = sns.heatmap(b_mag,cmap=my_cmap,cbar=False)\n",
    "plt.xticks([])\n",
    "plt.yticks([])\n",
    "for _, spine in res.spines.items():\n",
    "    spine.set_visible(True)\n",
    "    spine.set_linewidth(2)\n",
    "if savefig: \n",
    "    plt.savefig(figDir + 'fig2/heatmap_amplitude_mag.pdf',bbox_inches='tight',transparent=True,dpi=300)\n",
    "plt.show()\n",
    "\n",
    "plt.figure(figsize=(0.4,4))\n",
    "res = sns.heatmap(b_phase,cmap=phase_cmap,cbar=False)\n",
    "plt.xticks([])\n",
    "plt.yticks([])\n",
    "for _, spine in res.spines.items():\n",
    "    spine.set_visible(True)\n",
    "    spine.set_linewidth(2)\n",
    "if savefig: \n",
    "    plt.savefig(figDir + 'fig2/heatmap_amplitude_phase.pdf',bbox_inches='tight',transparent=True,dpi=300)\n",
    "plt.show()"
   ]
  },
  {
   "cell_type": "code",
   "execution_count": null,
   "metadata": {},
   "outputs": [],
   "source": [
    "# get color bar for the heatmaps above\n",
    "savefig = False\n",
    "\n",
    "fig, ax = plt.subplots(figsize=(5, 1))\n",
    "fig.subplots_adjust(bottom=0.5)\n",
    "\n",
    "cmap = matplotlib.cm.viridis # sns.diverging_palette(230, 20, as_cmap=True) # matplotlib.cm.YlGnBu\n",
    "norm = matplotlib.colors.Normalize(vmin=0, vmax=np.max(np.abs(eVals_r)))\n",
    "\n",
    "cb1 = matplotlib.colorbar.ColorbarBase(ax, cmap=cmap,norm=norm,orientation='horizontal')\n",
    "# cb1.set_label('Magnitude')\n",
    "\n",
    "# polar projection\n",
    "azimuths = np.arange(0, 361, 1)\n",
    "zeniths = np.arange(40, 70, 1)\n",
    "values = azimuths * np.ones((30, 361))\n",
    "fig2, ax2 = plt.subplots(subplot_kw=dict(projection='polar'))\n",
    "ax2.pcolormesh(azimuths*np.pi/180.0, zeniths, values, cmap='twilight')\n",
    "ax2.set_yticks([])\n",
    "\n",
    "    \n",
    "if savefig: \n",
    "    fig.savefig(figDir + 'fig2/colorbar.pdf',bbox_inches='tight',transparent=True,dpi=300)\n",
    "    fig2.savefig(figDir + 'fig2/polarbar.pdf',bbox_inches='tight',transparent=True,dpi=300)\n",
    "plt.show();"
   ]
  },
  {
   "cell_type": "markdown",
   "metadata": {},
   "source": [
    "#### Subfigures for Figure 3 in manuscript"
   ]
  },
  {
   "cell_type": "code",
   "execution_count": null,
   "metadata": {},
   "outputs": [],
   "source": [
    "# visualize the weights in C\n",
    "savefig = False\n",
    "\n",
    "plt.rcParams['axes.spines.right'] = False\n",
    "plt.rcParams['axes.spines.top'] = False \n",
    "\n",
    "# yerr=Csorted_err\n",
    "fig,ax = plt.subplots(1,1,figsize=(11,6))\n",
    "p1=ax.plot(range(len(Csorted)),Csorted,color='k',lw=3)\n",
    "p2=ax.fill_between(range(len(Csorted)),Csorted-5*Csorted_err,Csorted+5*Csorted_err,color='tab:blue',alpha=0.5)\n",
    "ax.xaxis.set_tick_params(which='both', size=5, width=2, direction='in')\n",
    "ax.yaxis.set_tick_params(which='both', size=5, width=2, direction='in')\n",
    "ax.grid(linestyle=':',linewidth=1.75,dashes=(2,4))\n",
    "ax.set_xlabel('gene ',fontsize=22);\n",
    "ax.set_ylabel('sampling weights',fontsize=22);\n",
    "for side in ax.spines.keys():\n",
    "    ax.spines[side].set_linewidth(2.5)\n",
    "ax.legend([(p2, p1[0]) ], [r'$\\mathbf{w}\\pm 5\\star\\mathrm{std}(\\mathbf{w})$'],frameon=False)\n",
    "\n",
    "if savefig:\n",
    "    plt.savefig(figDir + 'fig3/sampling_weights.pdf',dpi=300,bbox_inches='tight',transparent=True)\n",
    "plt.show()"
   ]
  },
  {
   "cell_type": "code",
   "execution_count": null,
   "metadata": {},
   "outputs": [],
   "source": [
    "# histogram of the weights in C\n",
    "savefig = False\n",
    "\n",
    "plt.rcParams['axes.spines.right'] = False\n",
    "plt.rcParams['axes.spines.top'] = False \n",
    "\n",
    "fig,ax = plt.subplots(1,1,figsize=(11,4))\n",
    "ax.hist(Csorted,bins=10,fc=(1, 1, 1, 0.5),rwidth=0.75,align='right',linewidth=2.5,edgecolor='k')\n",
    "# ax.hist(promoter_lens,6,alpha=0.75,edgecolor='k',linewidth=2.5,rwidth=0.8)\n",
    "\n",
    "ax.xaxis.set_tick_params(which='both', size=5, width=2, direction='in')\n",
    "ax.yaxis.set_tick_params(which='both', size=5, width=2, direction='in')\n",
    "ax.grid(linestyle=':',linewidth=1.75,dashes=(2,4))\n",
    "ax.set_xlabel('sampling weights',fontsize=22);\n",
    "ax.set_ylabel('frequency',fontsize=22);\n",
    "for side in ax.spines.keys():\n",
    "    ax.spines[side].set_linewidth(2.5)\n",
    "if savefig:\n",
    "    plt.savefig(figDir + 'fig3/sampling_weights_hist.pdf',dpi=300,bbox_inches='tight',transparent=True)\n",
    "plt.show()"
   ]
  },
  {
   "cell_type": "code",
   "execution_count": null,
   "metadata": {},
   "outputs": [],
   "source": [
    "# state estimation error\n",
    "savefig = False\n",
    "\n",
    "plt.rcParams['axes.spines.right'] = False\n",
    "plt.rcParams['axes.spines.top'] = False \n",
    "plt.rc('lines',linewidth=4);\n",
    "plt.rc('lines',markersize=16);\n",
    "\n",
    "# these_colors = ['blue','orange','green','red','purple','brown','pink','gray','olive','cyan']\n",
    "fig,ax = plt.subplots(1,1,figsize=(19,11));\n",
    "oo = 70\n",
    "mec = 'k'\n",
    "mew = 2\n",
    "alpha = 1\n",
    "xrange = np.linspace(samplingFreq,620,len(rho_list[0]))[:oo] \n",
    "my_labels = [r'T=$10$',r'T=$9$',r'T=$8$',r'T=$7$',r'T=$6$',r'T=$5$',r'T=$4$',r'T=$3$',r'T=$2$',r'T=$1$']\n",
    "my_markers = ['o','s','D','^','v','<','>','p','d','X']\n",
    "for ii in range(len(rho_list)):\n",
    "    ax.plot(xrange,rho_list[ii][:oo],my_markers[ii],mfc=npg_color_list[ii]+[0.8],mec=mec,mew=mew,label=my_labels[ii])\n",
    "# ax.set_xticks([1,20,40,60,80])\n",
    "ax.set_xlabel('Number of genes (sampled by rank)',fontsize=22);\n",
    "ax.set_ylabel('Reconstruction accuracy',fontsize=24);\n",
    "# ax.set_ylabel(r'$\\mathregular{\\rho(\\mathbf{z}_0,\\mathcal{O}_T^{\\dagger} \\mathbf{y})}$',fontsize=26);\n",
    "ax.legend(frameon=False,ncol=2,fontsize=22)\n",
    "for side in ax.spines.keys():\n",
    "    ax.spines[side].set_linewidth(2.5)\n",
    "ax.xaxis.set_tick_params(which='both', size=5, width=2, direction='in')\n",
    "ax.yaxis.set_tick_params(which='both', size=5, width=2, direction='in')\n",
    "ax.grid(linestyle=':',linewidth=1.75,dashes=(2,4))\n",
    "if savefig: \n",
    "    plt.savefig(figDir + 'fig3/state_estimation_error.pdf',dpi=300,bbox_inches='tight',transparent=True)    \n",
    "plt.show();"
   ]
  },
  {
   "cell_type": "code",
   "execution_count": null,
   "metadata": {},
   "outputs": [],
   "source": [
    "# state estimation error compared with random sampling\n",
    "savefig = False\n",
    "\n",
    "plt.rcParams['axes.spines.right'] = False\n",
    "plt.rcParams['axes.spines.top'] = False \n",
    "plt.rc('lines',linewidth=3);\n",
    "\n",
    "fig,axs = plt.subplots(2,5,figsize=(19,7),sharex=True);\n",
    "mec = 'k'\n",
    "mew = 1\n",
    "alpha = 0.8\n",
    "xrange = np.linspace(samplingFreq,620,len(rho_list[0]))\n",
    "my_labels = [r'T=$10$',r'T=$9$',r'T=$8$',r'T=$7$',r'T=$6$',r'T=$5$',r'T=$4$',r'T=$3$',r'T=$2$',r'T=$1$']\n",
    "my_markers = ['o','s','D','^','v','<','>','p','d','X']\n",
    "for ii,ax in enumerate(axs.reshape(-1)):\n",
    "    ax.set_title(my_labels[ii])\n",
    "    ax.plot(xrange,rho_list[ii],'k')\n",
    "    ax.plot(xrange,rho_rand_list[ii],'--',c='k')\n",
    "    for side in ax.spines.keys():\n",
    "        ax.spines[side].set_linewidth(2.5)\n",
    "    ax.xaxis.set_tick_params(which='both', size=5, width=2, direction='in')\n",
    "    ax.yaxis.set_tick_params(which='both', size=5, width=2, direction='in')\n",
    "    ax.grid(linestyle=':',linewidth=1.75,dashes=(2,4))\n",
    "ax.legend(['ranked sampling','random sampling'],frameon=False,fontsize=12)\n",
    "fig.text(0.5, 0.03, 'Number of genes', ha='center',fontsize=22);\n",
    "fig.text(0.07, 0.5, 'Reconstruction error', va='center', rotation='vertical',fontsize=24);\n",
    "if savefig: \n",
    "    plt.savefig(figDir + 'supplementalFigs/rand_estimation_error.pdf',dpi=300,bbox_inches='tight',transparent=True)    \n",
    "plt.show();"
   ]
  },
  {
   "cell_type": "code",
   "execution_count": null,
   "metadata": {},
   "outputs": [],
   "source": [
    "# sensor gene TPMs\n",
    "savefig = False\n",
    "\n",
    "plt.rcParams['axes.spines.right'] = False\n",
    "plt.rcParams['axes.spines.top'] = False\n",
    "plt.rcParams['axes.spines.bottom'] = True\n",
    "plt.rcParams['axes.spines.left'] = True\n",
    "\n",
    "full_tspan = list(range(-10,100,10))\n",
    "\n",
    "fig, axs = plt.subplots(3,5,figsize=(26,14),sharex=True); \n",
    "# fig.delaxes(axs[-1,-1])\n",
    "# fig.delaxes(axs[-1,-2])\n",
    "for ii,ax in enumerate(axs.reshape(-1)):\n",
    "    if ii < len(tags):\n",
    "        ax.set_title(df_up_new.gene[ii],fontsize=20)\n",
    "        pC = data_c_orig[keepers][df_up_new.tag_ind[ii]]\n",
    "        pT = data_t_orig[keepers][df_up_new.tag_ind[ii]]\n",
    "        mC = np.mean(pC,axis=1)\n",
    "        sC = np.std(pC,axis=1)\n",
    "        mT = np.mean(pT,axis=1)\n",
    "        sT = np.std(pT,axis=1)        \n",
    "        ax.plot(full_tspan,mC,'o--',ms=10,mec='k',mew=1,c='k',alpha=0.7)#c=npg_colors[2])\n",
    "        ax.plot(full_tspan,mT,'s-',ms=9,mec='k',mew=1,c='tab:red',alpha=0.7)#c=npg_colors[1])\n",
    "        ax.fill_between(full_tspan,mC-sC,mC+sC,color='k',alpha=0.1)\n",
    "        ax.fill_between(full_tspan,mT-sT,mT+sT,color='tab:red',alpha=0.1)\n",
    "        ax.set_xlabel('Rank: ' +str(df_up_new.obs_rank[ii]),fontsize=18,labelpad=2)\n",
    "        ax.set_xticks(range(10,90+40,40))\n",
    "        for side in ax.spines.keys():  # 'top', 'bottom', 'left', 'right'\n",
    "            ax.spines[side].set_linewidth(2.5)    \n",
    "        ax.axvspan(-1,10,color='tab:gray',alpha=0.2)\n",
    "        ax.set_xlim(-0.5,)\n",
    "#         ax.xaxis.set_ticks(np.arange(20, 120, 40))\n",
    "        ax.ticklabel_format(axis=\"y\", style=\"sci\",scilimits=(0,0),useMathText=True)\n",
    "        ax.xaxis.set_tick_params(which='both', size=5, width=2, direction='in')\n",
    "        ax.yaxis.set_tick_params(which='both', size=5, width=2, direction='in')\n",
    "        ax.grid(linestyle=':',linewidth=1.75,dashes=(2,4))\n",
    "\n",
    "ax.legend(['control','malathion \\n (1.3mM)'],frameon=False,fontsize=22);\n",
    "fig.text(0.5, -0.01, 'Time after malathion induction (minutes)', ha='center',fontsize=24);\n",
    "fig.text(-0.005, 0.5, 'Transcripts per Million (TPM)', va='center', rotation='vertical',fontsize=26);\n",
    "# plt.subplots_adjust(wspace=0.4, hspace=0.35)\n",
    "plt.tight_layout();\n",
    "\n",
    "if savefig: \n",
    "    plt.savefig(figDir + 'fig3/library_genes_rnaseq.pdf',bbox_inches='tight',transparent=True,dpi=300);\n"
   ]
  },
  {
   "cell_type": "markdown",
   "metadata": {},
   "source": [
    "#### New versions of subfigures for sensor placement results (since closed-form solution was found)"
   ]
  },
  {
   "cell_type": "code",
   "execution_count": 251,
   "metadata": {
    "scrolled": true
   },
   "outputs": [
    {
     "data": {
      "image/png": "[encoded data removed]",
      "text/plain": [
       "<Figure size 432x360 with 1 Axes>"
      ]
     },
     "metadata": {},
     "output_type": "display_data"
    }
   ],
   "source": [
    "# compare the eigenvalues of the three Gram matrices\n",
    "savefig=False\n",
    "# plt.style.use('dark_background')\n",
    "# dark_colors = plt.rcParams['axes.prop_cycle'].by_key()['color']  \n",
    "plt.rcParams.update({'font.size':22})\n",
    "fig, ax = plt.subplots(1,1,figsize=(6,5))\n",
    "ax.plot(np.linspace(1,623,623),np.real(D),'o',mfc='None',ms=8,mew=1.75,label=r'$G$')\n",
    "ax.plot(np.linspace(1,10,10),np.real(Dt),'s',mfc='None',ms=8,mew=1.75,label=r'$\\tilde{G}$')\n",
    "ax.plot(np.linspace(1,623,623),np.real(Dt_recon),'v',mfc='None',ms=8,mew=1.75,c=dark_colors[3],label=r'$U_r\\tilde{G}U_r^\\top$')\n",
    "ax.set_yscale('log')\n",
    "ax.set_xscale('log')\n",
    "ax.set_xticks([])\n",
    "for side in ax.spines.keys():\n",
    "    ax.spines[side].set_linewidth(1.5)\n",
    "    ax.xaxis.set_tick_params(which='both', size=5, width=1.5, direction='in')\n",
    "    ax.yaxis.set_tick_params(which='both', size=5, width=1.5, direction='in')\n",
    "ax.set_ylabel(r'$\\lambda$',fontsize=30)\n",
    "plt.legend(frameon=False,ncol=1)\n",
    "if savefig: \n",
    "    plt.savefig('/Users/aqib/desktop/gram_eigvals.pdf',dpi=300,transparent=True,bbox_inches='tight')\n",
    "plt.show()\n",
    "plt.rcParams.update({'font.size':18})\n"
   ]
  },
  {
   "cell_type": "code",
   "execution_count": 284,
   "metadata": {},
   "outputs": [
    {
     "data": {
      "image/png": "[encoded data removed]",
      "text/plain": [
       "<Figure size 432x360 with 1 Axes>"
      ]
     },
     "metadata": {},
     "output_type": "display_data"
    }
   ],
   "source": [
    "# compare top eigenvector of the three Gram matrices\n",
    "savefig=False\n",
    "# plt.style.use('dark_background')\n",
    "# dark_colors = plt.rcParams['axes.prop_cycle'].by_key()['color']  \n",
    "plt.rcParams.update({'font.size':22})\n",
    "fig, ax = plt.subplots(1,1,figsize=(6,5))\n",
    "ax.plot(np.sort((V[:,0])),label=r'$G$')\n",
    "# ax.plot(np.linspace(0,623,10),np.sort(Vt[:,0]),label=r'$\\tilde{G}$')\n",
    "ax.plot(np.sort((np.real(Vt_recon[:,0]))),label=r'$U_r\\tilde{G}U_r^\\top$',c=dark_colors[3])\n",
    "ax.hlines(0.025,0,len(A),linestyle='-.',lw=1.5,color=dark_colors[1])\n",
    "ax.hlines(-0.025,0,len(A),linestyle='-.',lw=1.5,color=dark_colors[1])\n",
    "ax.set_xticks([])\n",
    "for side in ax.spines.keys():\n",
    "    ax.spines[side].set_linewidth(1.5)\n",
    "    ax.xaxis.set_tick_params(which='both', size=5, width=1.5, direction='in')\n",
    "    ax.yaxis.set_tick_params(which='both', size=5, width=1.5, direction='in')\n",
    "ax.set_ylabel(r'$|\\mathbf{w}_1|$',fontsize=30)\n",
    "plt.legend(frameon=False,ncol=1)\n",
    "if savefig: \n",
    "    plt.savefig('/Users/aqib/desktop/gram_1eigvec.pdf',dpi=300,transparent=True,bbox_inches='tight')\n",
    "plt.show()"
   ]
  },
  {
   "cell_type": "code",
   "execution_count": null,
   "metadata": {},
   "outputs": [],
   "source": [
    "# which genes contributing most to observability of x0?"
   ]
  },
  {
   "cell_type": "code",
   "execution_count": null,
   "metadata": {},
   "outputs": [],
   "source": []
  },
  {
   "cell_type": "code",
   "execution_count": null,
   "metadata": {},
   "outputs": [],
   "source": []
  },
  {
   "cell_type": "code",
   "execution_count": null,
   "metadata": {},
   "outputs": [],
   "source": []
  },
  {
   "cell_type": "code",
   "execution_count": null,
   "metadata": {},
   "outputs": [],
   "source": []
  },
  {
   "cell_type": "code",
   "execution_count": null,
   "metadata": {},
   "outputs": [],
   "source": []
  },
  {
   "cell_type": "code",
   "execution_count": null,
   "metadata": {},
   "outputs": [],
   "source": []
  },
  {
   "cell_type": "code",
   "execution_count": null,
   "metadata": {},
   "outputs": [],
   "source": []
  },
  {
   "cell_type": "code",
   "execution_count": null,
   "metadata": {},
   "outputs": [],
   "source": []
  },
  {
   "cell_type": "code",
   "execution_count": null,
   "metadata": {},
   "outputs": [],
   "source": []
  },
  {
   "cell_type": "code",
   "execution_count": null,
   "metadata": {},
   "outputs": [],
   "source": []
  },
  {
   "cell_type": "code",
   "execution_count": null,
   "metadata": {},
   "outputs": [],
   "source": []
  },
  {
   "cell_type": "code",
   "execution_count": null,
   "metadata": {},
   "outputs": [],
   "source": []
  },
  {
   "cell_type": "code",
   "execution_count": null,
   "metadata": {},
   "outputs": [],
   "source": []
  },
  {
   "cell_type": "code",
   "execution_count": null,
   "metadata": {},
   "outputs": [],
   "source": []
  },
  {
   "cell_type": "code",
   "execution_count": null,
   "metadata": {},
   "outputs": [],
   "source": []
  },
  {
   "cell_type": "code",
   "execution_count": null,
   "metadata": {},
   "outputs": [],
   "source": []
  }
 ],
 "metadata": {
  "kernelspec": {
   "display_name": "Python 3",
   "language": "python",
   "name": "python3"
  },
  "language_info": {
   "codemirror_mode": {
    "name": "ipython",
    "version": 3
   },
   "file_extension": ".py",
   "mimetype": "text/x-python",
   "name": "python",
   "nbconvert_exporter": "python",
   "pygments_lexer": "ipython3",
   "version": "3.8.6"
  }
 },
 "nbformat": 4,
 "nbformat_minor": 4
}
